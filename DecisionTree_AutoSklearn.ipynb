{
  "nbformat": 4,
  "nbformat_minor": 0,
  "metadata": {
    "colab": {
      "provenance": [],
      "authorship_tag": "ABX9TyP+U9taYkwadcUZAgLRprGT",
      "include_colab_link": true
    },
    "kernelspec": {
      "name": "python3",
      "display_name": "Python 3"
    },
    "language_info": {
      "name": "python"
    }
  },
  "cells": [
    {
      "cell_type": "markdown",
      "metadata": {
        "id": "view-in-github",
        "colab_type": "text"
      },
      "source": [
        "<a href=\"https://colab.research.google.com/github/DarkEol/AutoML-Ontology/blob/main/DecisionTree_AutoSklearn.ipynb\" target=\"_parent\"><img src=\"https://colab.research.google.com/assets/colab-badge.svg\" alt=\"Open In Colab\"/></a>"
      ]
    },
    {
      "cell_type": "markdown",
      "source": [
        "#script for building decision tree from meta-features and ontology from decision tree"
      ],
      "metadata": {
        "id": "njm6wuCshACj"
      }
    },
    {
      "cell_type": "code",
      "source": [
        "!pip install owlready2"
      ],
      "metadata": {
        "id": "QtycdUUBp76X"
      },
      "execution_count": null,
      "outputs": []
    },
    {
      "cell_type": "code",
      "execution_count": null,
      "metadata": {
        "id": "05xcOXVLVpJB"
      },
      "outputs": [],
      "source": [
        "import pandas as pd\n",
        "import graphviz \n",
        "import pickle\n",
        "from sklearn import tree\n",
        "from sklearn.tree import export_text\n",
        "from owlready2 import *"
      ]
    },
    {
      "cell_type": "code",
      "source": [
        "info = pd.read_csv('featuresInput40.csv')\n",
        "#print(type(info.columns.values))\n",
        "#print(info.columns.values[:len(info.columns.values)-1])\n",
        "#print(info)\n",
        "\n",
        "#target is last attribute\n",
        "y = info[info.columns[info.columns.size-1]]\n",
        "X = info[info.columns.delete(info.columns.size-1)]\n",
        "print(\"x len: \", len(X))\n",
        "#print(\"X: \", X)\n",
        "#print(\"y:\", y)\n",
        "\n",
        "clf = tree.DecisionTreeClassifier()\n",
        "clf = clf.fit(X, y)\n",
        "#tree.plot_tree(clf)\n",
        "print(\"save decision tree into file\")\n",
        "file = open('decisionTree.txt','wb')\n",
        "pickle.dump(clf, file)\n",
        "file.close()\n",
        "print(\"file saved\")\n",
        "\n",
        "r = export_text(clf, feature_names=list(info.columns.values[:len(info.columns.values)-1]))\n",
        "print(r)\n",
        "dot_data = tree.export_graphviz(clf, out_file=None, feature_names=list(info.columns.values[:len(info.columns.values)-1]), class_names=y) \n",
        "graph = graphviz.Source(dot_data) \n",
        "graph.render(\"tree\") "
      ],
      "metadata": {
        "id": "hur_rDpyV90G"
      },
      "execution_count": null,
      "outputs": []
    },
    {
      "cell_type": "code",
      "source": [
        "def extendOntology(list_of_nodes):\n",
        "  #list_of_nodes = ['FewInstances' if x=='NoManyInstances' else x for x in list_of_nodes]\n",
        "  #list_of_nodes = ['ManyFeatures' if x=='NoFewFeatures' else x for x in list_of_nodes]\n",
        "  algo = list_of_nodes.pop()\n",
        "  #print(\"algo: \", algo)\n",
        "  info_to_add = onto.AutoSklearnAlgorithm\n",
        "  for node in list_of_nodes:\n",
        "    #print(dict_features[node])\n",
        "    info_to_add = info_to_add & onto.suitableFor.some(dict_features[node])\n",
        "  #print(info_to_add)\n",
        "  dict_algos[algo].is_a.append(info_to_add)\n",
        "  #print(list_of_nodes)\n",
        "\n",
        "def travelTree(clf, node_id, list_of_nodes):\n",
        "  left_id = clf.tree_.children_left[node_id]\n",
        "  right_id = clf.tree_.children_right[node_id]\n",
        "  feature = info.columns[clf.tree_.feature[node_id]]\n",
        "\n",
        "  if left_id==-1 and right_id==-1:\n",
        "    list2 = list_of_nodes.copy()\n",
        "    #list2.append(y[clf.tree_.value[node_id].argmax()])\n",
        "    list2.append(clf.classes_[clf.tree_.value[node_id].argmax()])\n",
        "    extendOntology(list2)\n",
        "  \n",
        "  if left_id!=-1:\n",
        "    list2 = list_of_nodes.copy()\n",
        "    list2.append(\"No\"+feature)\n",
        "    travelTree(clf, left_id, list2)\n",
        "  if right_id!=-1:\n",
        "    list2 = list_of_nodes.copy()\n",
        "    list2.append(feature)\n",
        "    travelTree(clf, right_id, list2)\n",
        "\n",
        "onto = get_ontology(\"ClassOntologyEmpty.owl\").load()\n",
        "\n",
        "dict_algos = {\n",
        "'adaboost' : onto.AdaBoostClassifier,\n",
        "'gradient_boosting' : onto.GradientBoostingClassifier,\n",
        "'extra_trees' : onto.ExtraTreesClassifier,\n",
        "'k_nearest_neighbors' : onto.KNeighborsClassifier,\n",
        "'lda' : onto.LinearDiscriminantAnalysis,\n",
        "'liblinear_svc' : onto.LIN_SVC,\n",
        "'libsvm_svc' : onto.SVM_SVC,\n",
        "'mlp' : onto.MLPClassifier,\n",
        "'passive_aggressive' : onto.PassiveAggressiveClassifier,\n",
        "'random_forest' : onto.RandomForestClassifier}\n",
        "\n",
        "dict_features = {\n",
        "    'BinaryClass' : onto.BinaryClass,\n",
        "    'NoBinaryClass' : onto.NoBinaryClass,\n",
        "    'StringClass' : onto.StringClass,\n",
        "    'NoStringClass' : onto.NoStringClass,\n",
        "    'UnaryAttributes' : onto.UnaryAttributes,\n",
        "    'NoUnaryAttributes' : onto.NoUnaryAttributes,\n",
        "    'ManyFeatures' : onto.ManyFeatures,\n",
        "    'NoManyFeatures' : onto.FewFeatures,\n",
        "    'FewFeatures' : onto.FewFeatures,\n",
        "    'NoFewFeatures' : onto.ManyFeatures,\n",
        "    'ManyInstances' : onto.ManyInstances,\n",
        "    'FewInstances' : onto.FewInstances,\n",
        "    'NoManyInstances' : onto.FewInstances,\n",
        "    'NoFewInstances' : onto.ManyInstances,\n",
        "    'BinaryAttributes' : onto.BinaryAttributes,\n",
        "    'NoBinaryAttributes' : onto.NoBinaryAttributes,\n",
        "    'NumericAttributes' : onto.NumericAttributes,\n",
        "    'NoNumericAttributes' : onto.NoNumericAttributes,\n",
        "    'NominalAttributes' : onto.NominalAttributes,\n",
        "    'NoNominalAttributes' : onto.NoNominalAttributes,\n",
        "    'StringAttributes' : onto.StringAttributes,\n",
        "    'NoStringAttributes' : onto.NoStringAttributes,\n",
        "    'MissingValues' : onto.MissingValues,\n",
        "    'NoMissingValues' : onto.NoMissingValues,\n",
        "    'NumericClass' : onto.NumericClass,\n",
        "    'NoNumericClass' : onto.NoNumericClass\n",
        "    }\n",
        "\n",
        "travelTree(clf, 0, list())\n",
        "\n",
        "onto.save(file = \"ontoUpdated.owl\")\n",
        "\n",
        "class_name = 'BinaryClass'\n",
        "info_to_insert = onto.AutoSklearnAlgorithm & onto.suitableFor.some(onto.class_name)\n",
        "print(type(info_to_insert))\n",
        "info_to_insert = info_to_insert & onto.suitableFor.some(onto.ManyFeatures)\n",
        "print(info_to_insert)"
      ],
      "metadata": {
        "id": "OHIOuAaXGhQo"
      },
      "execution_count": null,
      "outputs": []
    },
    {
      "cell_type": "code",
      "source": [
        "print(\"reading classifier from file\")\n",
        "file = open('decisionTree50-mVal.txt','rb')\n",
        "clfTree = pickle.load(file)\n",
        "file.close()\n",
        "print(\"classifier loaded\")\n",
        "print(\"type: \", type(clfTree))\n",
        "r = export_text(clfTree, feature_names=list(info.columns.values[:len(info.columns.values)-1]))\n",
        "print(r)\n",
        "dot_data = tree.export_graphviz(clf, out_file=None, feature_names=list(info.columns.values[:len(info.columns.values)-1]), class_names=y) \n",
        "graph = graphviz.Source(dot_data) \n",
        "graph.render(\"tree\") "
      ],
      "metadata": {
        "id": "lMxCM91Gsp7F"
      },
      "execution_count": null,
      "outputs": []
    }
  ]
}